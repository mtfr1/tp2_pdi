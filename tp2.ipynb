{
 "cells": [
  {
   "cell_type": "code",
   "execution_count": 1,
   "metadata": {},
   "outputs": [],
   "source": [
    "import os\n",
    "import scipy\n",
    "import numpy as np\n",
    "import matplotlib.pyplot as plt\n",
    "\n",
    "from skimage import feature\n",
    "from skimage import io\n",
    "from skimage import color\n",
    "from sklearn.neighbors import KNeighborsClassifier\n",
    "from sklearn.preprocessing import normalize\n",
    "from sklearn import datasets\n",
    "from sklearn import preprocessing\n",
    "\n",
    "import warnings\n",
    "warnings.filterwarnings('ignore')"
   ]
  },
  {
   "cell_type": "code",
   "execution_count": 2,
   "metadata": {},
   "outputs": [],
   "source": [
    "def show(img):\n",
    "    fig, ax = plt.subplots(1, 1, figsize=(8, 8))\n",
    "    ax.imshow(img, cmap=plt.cm.gray)\n",
    "    ax.set_axis_off()\n",
    "    plt.show()"
   ]
  },
  {
   "cell_type": "code",
   "execution_count": 3,
   "metadata": {},
   "outputs": [],
   "source": [
    "#selecionando as classes\n",
    "MAIN_DIR = \"frutas_dataset_train\"\n",
    "y = [name for name in os.listdir(MAIN_DIR) if os.path.isdir(os.path.join(MAIN_DIR, name))]\n",
    "result = [os.path.join(dp, f) for dp, dn, filenames in os.walk(MAIN_DIR) for f in filenames if os.path.splitext(f)[1] == '.jpg']\n",
    "#transformar as labels de string para ints\n",
    "le = preprocessing.LabelEncoder()\n",
    "encoded = le.fit_transform(y)"
   ]
  },
  {
   "cell_type": "code",
   "execution_count": 4,
   "metadata": {},
   "outputs": [],
   "source": [
    "#qtde de arquivos por pasta\n",
    "num_files = []\n",
    "for i in y:\n",
    "    DIR = \"frutas_dataset_train/\" + i + \"/\"\n",
    "    num_files.append(len([name for name in os.listdir(DIR) if os.path.isfile(os.path.join(DIR, name))]))\n",
    "\n",
    "X = np.zeros((len(result), 10)) #n_samples x n_features"
   ]
  },
  {
   "cell_type": "code",
   "execution_count": 5,
   "metadata": {},
   "outputs": [],
   "source": [
    "#criando o target label == classes das frutas\n",
    "k = []\n",
    "for i in range(len(y)):\n",
    "    for j in range(num_files[i]):\n",
    "        k.append(encoded[i])"
   ]
  },
  {
   "cell_type": "markdown",
   "metadata": {},
   "source": [
    "# Gerar a LBP das imagens"
   ]
  },
  {
   "cell_type": "code",
   "execution_count": 88,
   "metadata": {},
   "outputs": [],
   "source": [
    "#criando a matriz geral\n",
    "for i in range(len(result)):\n",
    "    im = color.rgb2gray(io.imread(result[i]))\n",
    "    lbp = feature.texture.local_binary_pattern(im, 8, 2, method='uniform')\n",
    "    histogram = scipy.stats.itemfreq(lbp)\n",
    "    x = histogram[:,1]\n",
    "    norm_hist = normalize(x[:,np.newaxis], axis=0).ravel()\n",
    "    X[i,:] = x"
   ]
  },
  {
   "cell_type": "code",
   "execution_count": 90,
   "metadata": {},
   "outputs": [],
   "source": [
    "#salvando estado da matriz X e do vetor de target labels k\n",
    "np.savetxt(\"extracted_features/x_lbp.txt\", X, delimiter=\";\")\n",
    "np.savetxt(\"extracted_features/k_lbp.txt\", k, delimiter=\";\")"
   ]
  },
  {
   "cell_type": "markdown",
   "metadata": {},
   "source": [
    "# Ler a LBP do txt"
   ]
  },
  {
   "cell_type": "code",
   "execution_count": 6,
   "metadata": {},
   "outputs": [],
   "source": [
    "#recuperar estado\n",
    "X = np.genfromtxt('extracted_features/x_lbp.txt', delimiter=';')\n",
    "k = np.genfromtxt('extracted_features/k_lbp.txt', delimiter=';')"
   ]
  },
  {
   "cell_type": "code",
   "execution_count": 7,
   "metadata": {},
   "outputs": [],
   "source": [
    "from sklearn.model_selection import train_test_split\n",
    "X_train, X_test, k_train, k_test = train_test_split(X, k, test_size=0.5) #test size = 50%"
   ]
  },
  {
   "cell_type": "code",
   "execution_count": 8,
   "metadata": {},
   "outputs": [],
   "source": [
    "knn = KNeighborsClassifier(n_neighbors=3)"
   ]
  },
  {
   "cell_type": "code",
   "execution_count": 9,
   "metadata": {},
   "outputs": [
    {
     "data": {
      "text/plain": [
       "KNeighborsClassifier(algorithm='auto', leaf_size=30, metric='minkowski',\n",
       "           metric_params=None, n_jobs=None, n_neighbors=3, p=2,\n",
       "           weights='uniform')"
      ]
     },
     "execution_count": 9,
     "metadata": {},
     "output_type": "execute_result"
    }
   ],
   "source": [
    "knn.fit(X, k)"
   ]
  },
  {
   "cell_type": "code",
   "execution_count": 10,
   "metadata": {},
   "outputs": [],
   "source": [
    "k_pred = knn.predict(X_test)"
   ]
  },
  {
   "cell_type": "code",
   "execution_count": 11,
   "metadata": {},
   "outputs": [
    {
     "name": "stdout",
     "output_type": "stream",
     "text": [
      "Taxa de acerto: 0.9075829383886256\n"
     ]
    }
   ],
   "source": [
    "from sklearn import metrics\n",
    "print(\"Taxa de acerto:\", metrics.accuracy_score(k_test, k_pred))"
   ]
  },
  {
   "cell_type": "code",
   "execution_count": 12,
   "metadata": {},
   "outputs": [],
   "source": [
    "def calcula_lbp_hist(im):\n",
    "    lbp = feature.texture.local_binary_pattern(im, 8, 2, method='uniform')\n",
    "    histogram = scipy.stats.itemfreq(lbp)\n",
    "    x = histogram[:,1]\n",
    "    return x"
   ]
  },
  {
   "cell_type": "code",
   "execution_count": 13,
   "metadata": {},
   "outputs": [],
   "source": [
    "def get_class(encoded, y, num):\n",
    "    for i in range(len(encoded)):\n",
    "        if(encoded[i] == num):\n",
    "            break\n",
    "    return y[i]"
   ]
  },
  {
   "cell_type": "code",
   "execution_count": 14,
   "metadata": {},
   "outputs": [
    {
     "name": "stdout",
     "output_type": "stream",
     "text": [
      "cashew\n"
     ]
    }
   ],
   "source": [
    "im = color.rgb2gray(io.imread(\"cashew_039.jpg\"))\n",
    "x = calcula_lbp_hist(im)\n",
    "a = knn.predict(x.reshape(1,-1))\n",
    "print(get_class(encoded, y, a))"
   ]
  },
  {
   "cell_type": "code",
   "execution_count": 15,
   "metadata": {},
   "outputs": [
    {
     "name": "stdout",
     "output_type": "stream",
     "text": [
      "watermelon\n"
     ]
    }
   ],
   "source": [
    "im = color.rgb2gray(io.imread(\"watermelon_063.jpg\"))\n",
    "x = calcula_lbp_hist(im)\n",
    "a = knn.predict(x.reshape(1,-1))\n",
    "print(get_class(encoded, y, a))"
   ]
  },
  {
   "cell_type": "markdown",
   "metadata": {},
   "source": [
    "# Gerar a matriz de confusão"
   ]
  },
  {
   "cell_type": "code",
   "execution_count": 21,
   "metadata": {},
   "outputs": [],
   "source": [
    "from sklearn.metrics import confusion_matrix\n",
    "\n",
    "k_pred = knn.predict(X_test)\n",
    "conf_matrix = confusion_matrix(k_test, k_pred)\n",
    "conf_matrix = conf_matrix.astype('float') / conf_matrix.sum(axis=1)[:, np.newaxis]"
   ]
  },
  {
   "cell_type": "code",
   "execution_count": 22,
   "metadata": {},
   "outputs": [],
   "source": [
    "np.savetxt(\"confusion_matrix_script/input.csv\", conf_matrix, delimiter=';', fmt='%.3f')"
   ]
  }
 ],
 "metadata": {
  "kernelspec": {
   "display_name": "Python 3",
   "language": "python",
   "name": "python3"
  },
  "language_info": {
   "codemirror_mode": {
    "name": "ipython",
    "version": 3
   },
   "file_extension": ".py",
   "mimetype": "text/x-python",
   "name": "python",
   "nbconvert_exporter": "python",
   "pygments_lexer": "ipython3",
   "version": "3.7.3"
  }
 },
 "nbformat": 4,
 "nbformat_minor": 2
}
